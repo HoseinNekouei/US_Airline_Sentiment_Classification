{
  "nbformat": 4,
  "nbformat_minor": 0,
  "metadata": {
    "colab": {
      "provenance": [],
      "authorship_tag": "ABX9TyM6ITxcu0n0a8efZcpktiM/",
      "include_colab_link": true
    },
    "kernelspec": {
      "name": "python3",
      "display_name": "Python 3"
    },
    "language_info": {
      "name": "python"
    }
  },
  "cells": [
    {
      "cell_type": "markdown",
      "metadata": {
        "id": "view-in-github",
        "colab_type": "text"
      },
      "source": [
        "<a href=\"https://colab.research.google.com/github/HoseinNekouei/US_Airline_Sentiment_Classification/blob/main/pyTorch_US_airline_tweet_fine_tune.ipynb\" target=\"_parent\"><img src=\"https://colab.research.google.com/assets/colab-badge.svg\" alt=\"Open In Colab\"/></a>"
      ]
    },
    {
      "cell_type": "code",
      "execution_count": 1,
      "metadata": {
        "id": "mU-5tVYjKGvZ"
      },
      "outputs": [],
      "source": [
        "import os\n",
        "os.environ['PYTORCH_CUDA_ALLOC_CONF'] = 'expandable_segments:True'"
      ]
    },
    {
      "cell_type": "code",
      "source": [
        "import pandas as pd\n",
        "from typing import Optional\n",
        "import matplotlib.pyplot as plt\n",
        "import seaborn as sns"
      ],
      "metadata": {
        "id": "YXopYZnDKvwI"
      },
      "execution_count": 2,
      "outputs": []
    },
    {
      "cell_type": "code",
      "source": [
        "from google.colab import drive\n",
        "drive.mount('/content/drive')"
      ],
      "metadata": {
        "colab": {
          "base_uri": "https://localhost:8080/"
        },
        "id": "N9PrDh6OQZoS",
        "outputId": "1ecdf50f-8497-4158-b384-ed43752b0909"
      },
      "execution_count": 3,
      "outputs": [
        {
          "output_type": "stream",
          "name": "stdout",
          "text": [
            "Mounted at /content/drive\n"
          ]
        }
      ]
    },
    {
      "cell_type": "code",
      "source": [
        "!mkdir /content/dataset\n",
        "!cp /content/drive/MyDrive/Projects/Sentiment_Analysis/Augmented_dataset_US_airline_Tweet.csv /content/dataset"
      ],
      "metadata": {
        "id": "arhr88ZIQknB"
      },
      "execution_count": 4,
      "outputs": []
    },
    {
      "cell_type": "code",
      "source": [
        "class DataVisualizer:\n",
        "    @staticmethod\n",
        "    def visualize_sentiment(data):\n",
        "        sentiment_count = data.airline_sentiment.value_counts()\n",
        "        colors = sns.color_palette('pastel', 3)\n",
        "        labels = ['Negative', 'Neutral', 'Positive']\n",
        "        explode = [0.01, 0.01, 0.01]\n",
        "\n",
        "        plt.figure(figsize=(4, 4))\n",
        "        sentiment_count.plot(\n",
        "            kind='pie',\n",
        "            colors=colors,\n",
        "            labels=labels,\n",
        "            explode=explode,\n",
        "            shadow=True,\n",
        "            autopct='%.2f',\n",
        "            fontsize=12,\n",
        "        )\n",
        "        plt.title('Total Tweets for Each Sentiment')\n",
        "        plt.show()"
      ],
      "metadata": {
        "id": "QGQZizyLoh9a"
      },
      "execution_count": 36,
      "outputs": []
    },
    {
      "cell_type": "code",
      "source": [
        "class DatasetLoader:\n",
        "    def __init__(self, *, file_path: str):\n",
        "        self.file_path: str = file_path\n",
        "        self._data: Optional[pd.DataFrame] = None\n",
        "\n",
        "    def loader(self) -> None:\n",
        "        if not os.path.exists(self.file_path):\n",
        "            raise FileNotFoundError(f\"File not found: {self.file_path}\")\n",
        "        self._data = pd.read_csv(self.file_path)\n",
        "\n",
        "    def visualize_data(self):\n",
        "        if self._data is not None:\n",
        "            DataVisualizer.visualize_sentiment(self._data)\n",
        "        else:\n",
        "            raise ValueError(\"Data not loaded. Call `loader()` first.\")\n",
        "\n",
        "    def preprocessing(self):\n",
        "        if self._data is None:\n",
        "            raise ValueError(\"Data not loaded. Call `loader()` first.\")\n",
        "        # Example preprocessing steps\n",
        "        self._data = self._data.dropna()\n",
        "        self._data['text'] = self._data['text'].str.lower()\n",
        "\n",
        "    def __str__(self):\n",
        "        if self._data is None:\n",
        "            return \"Data not loaded.\"\n",
        "        information = [\n",
        "            f'Categories of: {self._data.airline_sentiment.value_counts()}',\n",
        "        ]\n",
        "        return ', '.join(information)\n",
        "\n",
        "    def __call__(self):\n",
        "        self.loader()\n",
        "        self.visualize_data()"
      ],
      "metadata": {
        "id": "nVlm3xUToxVf"
      },
      "execution_count": 37,
      "outputs": []
    },
    {
      "cell_type": "code",
      "source": [
        "file_path= '/content/dataset/Augmented_dataset_US_airline_Tweet.csv'\n",
        "loader= DatasetLoader(file_path= file_path)\n",
        "loader()\n",
        "\n",
        "print(loader)"
      ],
      "metadata": {
        "id": "y-J2SScmQLuC",
        "outputId": "5f45c718-d576-4688-9d16-8bd853646366",
        "colab": {
          "base_uri": "https://localhost:8080/",
          "height": 458
        }
      },
      "execution_count": 40,
      "outputs": [
        {
          "output_type": "display_data",
          "data": {
            "text/plain": [
              "<Figure size 400x400 with 1 Axes>"
            ],
            "image/png": "[encoded data removed]"
          },
          "metadata": {}
        },
        {
          "output_type": "stream",
          "name": "stdout",
          "text": [
            "Categories of: airline_sentiment\n",
            "neutral     18117\n",
            "negative    18117\n",
            "positive    17997\n",
            "Name: count, dtype: int64\n"
          ]
        }
      ]
    },
    {
      "cell_type": "code",
      "source": [],
      "metadata": {
        "id": "m9SWHZfYyTqG"
      },
      "execution_count": 30,
      "outputs": []
    }
  ]
}