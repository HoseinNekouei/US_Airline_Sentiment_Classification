{
  "nbformat": 4,
  "nbformat_minor": 0,
  "metadata": {
    "colab": {
      "provenance": [],
      "authorship_tag": "ABX9TyN70aDss6M4S3o69XsuCr7b",
      "include_colab_link": true
    },
    "kernelspec": {
      "name": "python3",
      "display_name": "Python 3"
    },
    "language_info": {
      "name": "python"
    }
  },
  "cells": [
    {
      "cell_type": "markdown",
      "metadata": {
        "id": "view-in-github",
        "colab_type": "text"
      },
      "source": [
        "<a href=\"https://colab.research.google.com/github/HoseinNekouei/US_Airline_Sentiment_Classification/blob/main/pyTorch_US_airline_tweet_fine_tune.ipynb\" target=\"_parent\"><img src=\"https://colab.research.google.com/assets/colab-badge.svg\" alt=\"Open In Colab\"/></a>"
      ]
    },
    {
      "cell_type": "code",
      "execution_count": 1,
      "metadata": {
        "id": "mU-5tVYjKGvZ"
      },
      "outputs": [],
      "source": [
        "import os\n",
        "os.environ['PYTORCH_CUDA_ALLOC_CONF'] = 'expandable_segments:True'"
      ]
    },
    {
      "cell_type": "code",
      "source": [
        "import pandas as pd\n",
        "from typing import Optional\n",
        "import matplotlib.pyplot as plt\n",
        "import seaborn as sns"
      ],
      "metadata": {
        "id": "YXopYZnDKvwI"
      },
      "execution_count": 33,
      "outputs": []
    },
    {
      "cell_type": "code",
      "source": [
        "from google.colab import drive\n",
        "drive.mount('/content/drive')"
      ],
      "metadata": {
        "colab": {
          "base_uri": "https://localhost:8080/"
        },
        "id": "N9PrDh6OQZoS",
        "outputId": "ddfa39bc-5100-41c6-e0a1-74c2af7caf3a"
      },
      "execution_count": 3,
      "outputs": [
        {
          "output_type": "stream",
          "name": "stdout",
          "text": [
            "Mounted at /content/drive\n"
          ]
        }
      ]
    },
    {
      "cell_type": "code",
      "source": [
        "!mkdir /content/dataset\n",
        "!cp /content/drive/MyDrive/Projects/Sentiment_Analysis/Augmented_dataset_US_airline_Tweet.csv /content/dataset"
      ],
      "metadata": {
        "id": "arhr88ZIQknB"
      },
      "execution_count": 4,
      "outputs": []
    },
    {
      "cell_type": "code",
      "source": [
        "class LoadDataset:\n",
        "  def __init__(self, *, path: str):\n",
        "    self.path: str= path\n",
        "    self.texts: Optional[pd.Series]= None\n",
        "    self.labels: Optional[pd.Series]= None\n",
        "\n",
        "  def _read_file(self)-> None:\n",
        "    \"\"\"\n",
        "    Read a CSV file and splits it into features and labels.\n",
        "    \"\"\"\n",
        "    df= pd.read_csv(self.path)\n",
        "    self.labels= df['airline_sentiment']\n",
        "    self.texts= df['text']\n",
        "\n",
        "  def _visualize_data(self):\n",
        "    # Define colors and labels\n",
        "    sentiment_count= self.labels.value_counts()\n",
        "    colors=sns.color_palette('pastel',3)\n",
        "    labels=['Negative','Neutral','Postive']\n",
        "    explode=[0.01,0.01,0.01]\n",
        "\n",
        "    # plot pie pie chart\n",
        "    plt.figure(figsize=(4,4))\n",
        "    sentiment_count.plot(\n",
        "        kind='pie',\n",
        "        colors=colors,\n",
        "        labels=labels,\n",
        "        explode=explode,\n",
        "        shadow=True,\n",
        "        autopct='%.2f',\n",
        "        fontsize=12,\n",
        "    )\n",
        "    plt.title('Totla Tweets for Each Sentiment')\n",
        "    plt.show()\n",
        "\n",
        "  def __str__(self):\n",
        "    information= [\n",
        "      f'Categories of :{self.labels.value_counts()}',\n",
        "    ]\n",
        "    return ','.join(information)\n",
        "\n",
        "  def __call__(self):\n",
        "    self._read_file()\n",
        "    self._visualize_data()\n",
        "    print(self.__str__())"
      ],
      "metadata": {
        "id": "_B1bsRYQNWhd"
      },
      "execution_count": 62,
      "outputs": []
    },
    {
      "cell_type": "code",
      "source": [
        "def __main__():\n",
        "  load_dataset= LoadDataset(path='/content/dataset/Augmented_dataset_US_airline_Tweet.csv')\n",
        "  load_dataset()"
      ],
      "metadata": {
        "id": "y-J2SScmQLuC"
      },
      "execution_count": 66,
      "outputs": []
    },
    {
      "cell_type": "code",
      "source": [],
      "metadata": {
        "id": "m9SWHZfYyTqG"
      },
      "execution_count": null,
      "outputs": []
    }
  ]
}