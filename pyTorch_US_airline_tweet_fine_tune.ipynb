{
  "nbformat": 4,
  "nbformat_minor": 0,
  "metadata": {
    "colab": {
      "provenance": [],
      "gpuType": "T4",
      "authorship_tag": "ABX9TyPpVEP0+yBT4C2Gp8la2WkR",
      "include_colab_link": true
    },
    "kernelspec": {
      "name": "python3",
      "display_name": "Python 3"
    },
    "language_info": {
      "name": "python"
    },
    "accelerator": "GPU"
  },
  "cells": [
    {
      "cell_type": "markdown",
      "metadata": {
        "id": "view-in-github",
        "colab_type": "text"
      },
      "source": [
        "<a href=\"https://colab.research.google.com/github/HoseinNekouei/US_Airline_Sentiment_Classification/blob/main/pyTorch_US_airline_tweet_fine_tune.ipynb\" target=\"_parent\"><img src=\"https://colab.research.google.com/assets/colab-badge.svg\" alt=\"Open In Colab\"/></a>"
      ]
    },
    {
      "cell_type": "markdown",
      "source": [
        "# **Import Libreries and important requirment**"
      ],
      "metadata": {
        "id": "Q-smsfOhs_7L"
      }
    },
    {
      "cell_type": "code",
      "source": [
        "import os\n",
        "import gc\n",
        "\n",
        "from google.colab import drive\n",
        "drive.mount('/content/drive')"
      ],
      "metadata": {
        "colab": {
          "base_uri": "https://localhost:8080/"
        },
        "id": "N9PrDh6OQZoS",
        "outputId": "5acc7d21-7e2b-4ebb-aabc-08bf1910ce1e"
      },
      "execution_count": null,
      "outputs": [
        {
          "output_type": "stream",
          "name": "stdout",
          "text": [
            "Drive already mounted at /content/drive; to attempt to forcibly remount, call drive.mount(\"/content/drive\", force_remount=True).\n"
          ]
        }
      ]
    },
    {
      "cell_type": "code",
      "source": [
        "!mkdir /content/dataset\n",
        "!cp /content/drive/MyDrive/Projects/Sentiment_Analysis/Augmented_dataset_US_airline_Tweet.csv /content/dataset"
      ],
      "metadata": {
        "id": "arhr88ZIQknB",
        "colab": {
          "base_uri": "https://localhost:8080/"
        },
        "outputId": "f1fbc0d9-5eee-474e-c9fb-b21b87e01100"
      },
      "execution_count": null,
      "outputs": [
        {
          "output_type": "stream",
          "name": "stdout",
          "text": [
            "mkdir: cannot create directory ‘/content/dataset’: File exists\n"
          ]
        }
      ]
    },
    {
      "cell_type": "markdown",
      "source": [
        "# **Load Dataset and Pre-Processing data**"
      ],
      "metadata": {
        "id": "6HQlVPPTtImJ"
      }
    },
    {
      "cell_type": "code",
      "source": [
        "import matplotlib.pyplot as plt\n",
        "import seaborn as sns\n",
        "\n",
        "class DataVisualizer:\n",
        "    @staticmethod\n",
        "    def visualize_sentiment(data):\n",
        "        sentiment_count = data.airline_sentiment.value_counts()\n",
        "        colors = sns.color_palette('pastel', 3)\n",
        "        labels = ['Negative', 'Neutral', 'Positive']\n",
        "        explode = [0.01, 0.01, 0.01]\n",
        "\n",
        "        plt.figure(figsize=(4, 4))\n",
        "        sentiment_count.plot(\n",
        "            kind='pie',\n",
        "            colors=colors,\n",
        "            labels=labels,\n",
        "            explode=explode,\n",
        "            shadow=True,\n",
        "            autopct='%.2f',\n",
        "            fontsize=12,\n",
        "        )\n",
        "        plt.title('Total Tweets for Each Sentiment')\n",
        "        plt.ylabel(' ')\n",
        "        plt.show()"
      ],
      "metadata": {
        "id": "QGQZizyLoh9a"
      },
      "execution_count": null,
      "outputs": []
    },
    {
      "cell_type": "code",
      "source": [
        "import logging\n",
        "import string\n",
        "import re\n",
        "import nltk\n",
        "from nltk.corpus import stopwords\n",
        "\n",
        "nltk.download('stopwords')\n",
        "\n",
        "class TextProcessor:\n",
        "    @staticmethod\n",
        "    def class_mapping(sentiment: str)-> int:\n",
        "        \"\"\" Map class labels to new values.\"\"\"\n",
        "\n",
        "        if sentiment== 'negative':\n",
        "          return 0\n",
        "        elif sentiment== 'neutral':\n",
        "          return 1\n",
        "        elif sentiment== 'positive':\n",
        "          return 2\n",
        "        else:\n",
        "          logging.warning(f'Unknown Sentiment {sentiment}')\n",
        "          return -1\n",
        "\n",
        "    @staticmethod\n",
        "    def remove_stopwords(text):\n",
        "        \"\"\"\n",
        "          Stop words are commonly used words in a language that are often filtered out in text processing\n",
        "          because they carry little meaningful information on their own.\n",
        "          Examples in English include words like \"the,\" \"is,\" \"in,\" \"and,\" \"a,\" etc.\n",
        "          They are typically removed in Natural Language Processing (NLP) tasks to improve the efficiency of algorithms or the quality of analysis.\n",
        "        \"\"\"\n",
        "        text = ' '.join([word for word in text.split() if word not in stopwords.words('english')])\n",
        "        return text\n",
        "\n",
        "    # Remove url\n",
        "    @staticmethod\n",
        "    def remove_urls(text):\n",
        "        url = re.compile(r'https?://\\S+|www\\.\\S+')\n",
        "        return url.sub(r'',text)\n",
        "\n",
        "    # Remove html\n",
        "    @staticmethod\n",
        "    def remove_html(text):\n",
        "        html=re.compile(r'<.*?>')\n",
        "        return html.sub(r'',text)\n",
        "\n",
        "    # Remove @username\n",
        "    @staticmethod\n",
        "    def remove_username(text):\n",
        "        return re.sub('@[^\\s]+','',text)\n",
        "\n",
        "    # Decontraction text\n",
        "    @staticmethod\n",
        "    def decontraction(text):\n",
        "        text = re.sub(r\"won\\'t\", \" will not\", text)\n",
        "        text = re.sub(r\"won\\'t've\", \" will not have\", text)\n",
        "        text = re.sub(r\"can\\'t\", \" can not\", text)\n",
        "        text = re.sub(r\"don\\'t\", \" do not\", text)\n",
        "        text = re.sub(r\"didn\\'t\", \" did not\", text)\n",
        "        text = re.sub(r\"can\\'t've\", \" can not have\", text)\n",
        "        text = re.sub(r\"ma\\'am\", \" madam\", text)\n",
        "        text = re.sub(r\"let\\'s\", \" let us\", text)\n",
        "        text = re.sub(r\"ain\\'t\", \" am not\", text)\n",
        "        text = re.sub(r\"shan\\'t\", \" shall not\", text)\n",
        "        text = re.sub(r\"sha\\n't\", \" shall not\", text)\n",
        "        text = re.sub(r\"o\\'clock\", \" of the clock\", text)\n",
        "        text = re.sub(r\"y\\'all\", \" you all\", text)\n",
        "        text = re.sub(r\"n\\'t\", \" not\", text)\n",
        "        text = re.sub(r\"n\\'t've\", \" not have\", text)\n",
        "        text = re.sub(r\"\\'re\", \" are\", text)\n",
        "        text = re.sub(r\"\\'s\", \" is\", text)\n",
        "        text = re.sub(r\"\\'d\", \" would\", text)\n",
        "        text = re.sub(r\"\\'d've\", \" would have\", text)\n",
        "        text = re.sub(r\"\\'ll\", \" will\", text)\n",
        "        text = re.sub(r\"\\'ll've\", \" will have\", text)\n",
        "        text = re.sub(r\"\\'t\", \" not\", text)\n",
        "        text = re.sub(r\"\\'ve\", \" have\", text)\n",
        "        text = re.sub(r\"\\'m\", \" am\", text)\n",
        "        text = re.sub(r\"\\'re\", \" are\", text)\n",
        "        return text\n",
        "\n",
        "    @staticmethod\n",
        "    def normalize_repeated_chars(text):\n",
        "        # Step 1: Preserve ellipses by temporarily replacing them with a unique placeholder\n",
        "        placeholder = \"<ELLIPSIS>\"\n",
        "        text = re.sub(r'\\.{3,}', placeholder, text)  # Replace ellipses with a placeholder\n",
        "\n",
        "        # Step 2: Normalize repeated characters. Matches any character repeated 3 or more times like cooool -> cool\n",
        "        text = re.sub(r'(.)\\1{2,}', r'\\1', text)\n",
        "\n",
        "        # Step 3: Restore ellipses by replacing the placeholder with '...'\n",
        "        text = text.replace(placeholder, '...')\n",
        "        return text\n",
        "\n",
        "    @staticmethod\n",
        "    # Separate alphabetic characters and numeric characters to improce tokenization\n",
        "    def seperate_alphanumeric(text):\n",
        "        words = re.findall(r\"[^\\W\\d_]+|\\d+|\\W+\", text)\n",
        "        return \" \".join(words)"
      ],
      "metadata": {
        "id": "KK-fo1UEx6lz",
        "colab": {
          "base_uri": "https://localhost:8080/"
        },
        "outputId": "4f5efbf7-8304-4e80-d2c5-0c7cdb4b03b5"
      },
      "execution_count": null,
      "outputs": [
        {
          "output_type": "stream",
          "name": "stderr",
          "text": [
            "[nltk_data] Downloading package stopwords to /root/nltk_data...\n",
            "[nltk_data]   Package stopwords is already up-to-date!\n"
          ]
        }
      ]
    },
    {
      "cell_type": "code",
      "source": [
        "import pandas as pd\n",
        "from typing import Optional\n",
        "\n",
        "class DatasetLoader:\n",
        "    def __init__(self, *, file_path: str):\n",
        "        self.file_path: str = file_path\n",
        "        self._data: Optional[pd.DataFrame] = None\n",
        "\n",
        "    def loader(self) -> None:\n",
        "        if not os.path.exists(self.file_path):\n",
        "            raise FileNotFoundError(f\"File not found: {self.file_path}\")\n",
        "        self._data = pd.read_csv(self.file_path)\n",
        "\n",
        "    def visualize_data(self):\n",
        "        if self._data is not None:\n",
        "            DataVisualizer.visualize_sentiment(self._data)\n",
        "        else:\n",
        "            raise ValueError(\"Data not loaded. Call `loader()` first.\")\n",
        "\n",
        "    def map_classes(self):\n",
        "        if self._data is not None:\n",
        "            # Apply the static method to map classes\n",
        "            self._data['labels']= self._data['airline_sentiment'].apply(TextProcessor.class_mapping)\n",
        "        else:\n",
        "            raise ValueError(\"Data not loaded. Call `loader()` first.\")\n",
        "\n",
        "    def text_preprocessing(self):\n",
        "        if self._data is not None:\n",
        "            # Apply the static method to remove html\n",
        "            self._data['revised_text']= self._data['text'].apply(TextProcessor.remove_html)\n",
        "\n",
        "            # Apply the static method to remove urls\n",
        "            self._data['revised_text']= self._data['revised_text'].apply(TextProcessor.remove_urls)\n",
        "\n",
        "            # Apply the static method to decontract text.\n",
        "            self._data['revised_text']= self._data['revised_text'].apply(TextProcessor.decontraction)\n",
        "\n",
        "            # Convert texts to lowercase.\n",
        "            self._data['revised_text']= self._data['revised_text'].apply(lambda x: x.lower())\n",
        "\n",
        "            # Replace Repeated Characters with a Single Instance\n",
        "            self._data['revised_text']= self._data['revised_text'].apply(TextProcessor.normalize_repeated_chars)\n",
        "\n",
        "            # Separate alphabetic characters and numeric characters\n",
        "            # self._data['revised_text']= self._data['revised_text'].apply(TextProcessor.seperate_alphanumeric)\n",
        "\n",
        "            # Apply the static method to remove stop words\n",
        "            # self._data['revised_text']= self._data['revised_text'].apply(TextProcessor.remove_stopwords)\n",
        "\n",
        "            # Apply the static method to remove @username\n",
        "            # self._data['revised_text']= self._data['revised_text'].apply(TextProcessor.remove_username)\n",
        "        else:\n",
        "            raise ValueError(\"Data not loaded. Call 'loader()' first\")\n",
        "\n",
        "    def __str__(self):\n",
        "        if self._data is None:\n",
        "            return \"Data not loaded.\"\n",
        "        information = [\n",
        "            f'Categories of : {self._data.airline_sentiment.value_counts().to_dict()}',\n",
        "            f'\\nInformation: {self._data.info()}'\n",
        "        ]\n",
        "        return ', '.join(information)\n",
        "\n",
        "    def __call__(self):\n",
        "        self.loader()\n",
        "        self.visualize_data()\n",
        "        self.map_classes()\n",
        "        self.text_preprocessing()\n"
      ],
      "metadata": {
        "id": "nVlm3xUToxVf"
      },
      "execution_count": null,
      "outputs": []
    },
    {
      "cell_type": "code",
      "source": [
        "file_path= '/content/dataset/Augmented_dataset_US_airline_Tweet.csv'\n",
        "loader= DatasetLoader(file_path= file_path)\n",
        "loader()\n",
        "\n",
        "print(loader)"
      ],
      "metadata": {
        "id": "y-J2SScmQLuC",
        "outputId": "04c8fbaf-92f3-488c-a4d6-4dbf686e5f8f",
        "colab": {
          "base_uri": "https://localhost:8080/",
          "height": 641
        },
        "collapsed": true
      },
      "execution_count": null,
      "outputs": [
        {
          "output_type": "display_data",
          "data": {
            "text/plain": [
              "<Figure size 400x400 with 1 Axes>"
            ],
            "image/png": "[encoded data removed]"
          },
          "metadata": {}
        },
        {
          "output_type": "stream",
          "name": "stdout",
          "text": [
            "<class 'pandas.core.frame.DataFrame'>\n",
            "RangeIndex: 1000 entries, 0 to 999\n",
            "Data columns (total 6 columns):\n",
            " #   Column             Non-Null Count  Dtype \n",
            "---  ------             --------------  ----- \n",
            " 0   text               1000 non-null   object\n",
            " 1   airline_sentiment  1000 non-null   object\n",
            " 2   negativereason     515 non-null    object\n",
            " 3   positivereason     213 non-null    object\n",
            " 4   labels             1000 non-null   int64 \n",
            " 5   revised_text       1000 non-null   object\n",
            "dtypes: int64(1), object(5)\n",
            "memory usage: 47.0+ KB\n",
            "Categories of : {'negative': 515, 'neutral': 272, 'positive': 213}, \n",
            "Information: None\n"
          ]
        }
      ]
    },
    {
      "cell_type": "markdown",
      "source": [
        "# Split data into Trainset and Testset"
      ],
      "metadata": {
        "id": "bTwEQw9Ns8u0"
      }
    },
    {
      "cell_type": "code",
      "source": [
        "from sklearn.model_selection import train_test_split\n",
        "\n",
        "def split_dataset(*,features, labels):\n",
        "  X_train, X_test, y_train, y_test = train_test_split(features, labels, test_size=0.25, stratify= labels, random_state= 42)\n",
        "\n",
        "  message_list= [\n",
        "    f'X_train length: {len(X_train)}',\n",
        "    f'X_test length: {len(X_test)}',\n",
        "    f'y_train length: {len(y_train)}',\n",
        "    f'y_test length: {len(y_test)}'\n",
        "  ]\n",
        "  message_list= ','.join(message_list)\n",
        "  print(message_list)\n",
        "\n",
        "  return X_train, X_test, y_train, y_test\n",
        "\n",
        "\n",
        "features= loader._data['revised_text']\n",
        "labels= loader._data['labels']\n",
        "\n",
        "X_train, X_test, y_train, y_test= split_dataset(features= features, labels= labels)"
      ],
      "metadata": {
        "id": "4XdGZ0NNt_xM",
        "colab": {
          "base_uri": "https://localhost:8080/"
        },
        "outputId": "4ad1283e-f298-4add-f28c-330a605e23b7"
      },
      "execution_count": null,
      "outputs": [
        {
          "output_type": "stream",
          "name": "stdout",
          "text": [
            "X_train length: 750,X_test length: 250,y_train length: 750,y_test length: 250\n"
          ]
        }
      ]
    },
    {
      "cell_type": "markdown",
      "source": [
        "#**Loade Tokenizer and Tokenize tweets**"
      ],
      "metadata": {
        "id": "hUrdeTBoE-P8"
      }
    },
    {
      "cell_type": "code",
      "execution_count": null,
      "metadata": {
        "id": "mU-5tVYjKGvZ"
      },
      "outputs": [],
      "source": [
        "import torch\n",
        "os.environ['PYTORCH_CUDA_ALLOC_CONF'] = 'expandable_segments:True'"
      ]
    },
    {
      "cell_type": "code",
      "source": [
        "# from transformers import pipeline\n",
        "# flan_model_name= \"google/flan-t5-large\"\n",
        "# generator = pipeline('text2text-generation', model= flan_model_name )\n",
        "\n",
        "# if not isinstance(X_train, list):\n",
        "#   X_train= X_train.tolist()\n",
        "\n",
        "# # Define a prompt\n",
        "# prompt= 'Provide a brief explanation the interpretation of the key emotional aspects and tone: '\n",
        "\n",
        "# augmented_tweets= []\n",
        "\n",
        "# for tweet in X_train:\n",
        "#   result= generator(prompt + tweet)\n",
        "#   augmented_tweet= f\"{tweet} T, {result[0]['generated_text']}\"\n",
        "#   augmented_tweets.append(augmented_tweet)\n",
        "\n",
        "# augmented_tweets\n"
      ],
      "metadata": {
        "id": "11XO9QqRHcBn",
        "collapsed": true
      },
      "execution_count": null,
      "outputs": []
    },
    {
      "cell_type": "markdown",
      "source": [
        "# **Load Model and make new augmented dataset of X_train**"
      ],
      "metadata": {
        "id": "RofyKdP9fkCR"
      }
    },
    {
      "cell_type": "code",
      "source": [
        "from transformers import T5ForConditionalGeneration, T5TokenizerFast\n",
        "\n",
        "flan_model_name= \"google/flan-t5-large\"\n",
        "device= 'cuda' if torch.cuda.is_available() else 'cpu'\n",
        "\n",
        "flan_model= T5ForConditionalGeneration.from_pretrained(flan_model_name, device_map='auto', torch_dtype= torch.float16)\n",
        "flan_tokenizer= T5TokenizerFast.from_pretrained(flan_model_name)"
      ],
      "metadata": {
        "id": "Fwy40r5yfrq8",
        "collapsed": true
      },
      "execution_count": null,
      "outputs": []
    },
    {
      "cell_type": "code",
      "source": [
        "def tweet_augmentation(tweets, batch_size= 32):\n",
        "    # Define a prompt\n",
        "    prompt= 'Provide a brief explanation the interpretation of the key emotional aspects and tone: '\n",
        "    augmented_tweets= []\n",
        "\n",
        "    for i in range(0, len(tweets), batch_size):\n",
        "        batch= tweets[i: i+ batch_size]\n",
        "        prompts= [prompt + tweet  for tweet in batch]\n",
        "\n",
        "        #Tokenize and generate\n",
        "        inputs= flan_tokenizer(\n",
        "            prompts,\n",
        "            return_tensors= 'pt',\n",
        "            padding= True,\n",
        "            truncation= True).to(device)\n",
        "\n",
        "        outputs= flan_model.generate(\n",
        "            **inputs,\n",
        "            max_length= 50,\n",
        "            num_return_sequences=1,)\n",
        "            # num_beams= 5,\n",
        "            # early_stopping=True)\n",
        "\n",
        "        #Decode and combine\n",
        "        generated_tweets= flan_tokenizer.batch_decode(outputs, skip_special_tokens= True)\n",
        "\n",
        "        output.clear()\n",
        "        print(f'generate {i}/{len(tweets)} tweets')\n",
        "\n",
        "        for original_tweet, generated_tweet in zip(batch, generated_tweets):\n",
        "            augmented_tweets.append(f\"{original_tweet} [START_ASPECT] {generated_tweet} [END_ASPECT]\")\n",
        "\n",
        "    return augmented_tweets\n",
        "\n",
        "augmented_X_train= tweet_augmentation(X_train, batch_size= 32)"
      ],
      "metadata": {
        "id": "VvX8c_zILJi8"
      },
      "execution_count": null,
      "outputs": []
    },
    {
      "cell_type": "code",
      "source": [
        "# !pip install datasets"
      ],
      "metadata": {
        "collapsed": true,
        "id": "z7_3XXYy19rB"
      },
      "execution_count": null,
      "outputs": []
    },
    {
      "cell_type": "code",
      "source": [
        "from datasets import Dataset\n",
        "import pandas as pd\n",
        "\n",
        "# Create a Hugging Face Dataset\n",
        "augmented_dataset = Dataset.from_dict({\n",
        "    \"text\": augmented_X_train,\n",
        "    \"labels\": y_train\n",
        "})\n",
        "\n",
        "raw_data= pd.DataFrame(augmented_dataset)\n",
        "raw_data.to_csv(\"/content/drive/MyDrive/Projects/Sentiment_Analysis/augmented_X_train.csv\", index=False)\n",
        "\n",
        "texts= raw_data['text']\n",
        "labels= raw_data['labels']"
      ],
      "metadata": {
        "id": "scIElXNEgtkf"
      },
      "execution_count": null,
      "outputs": []
    },
    {
      "cell_type": "code",
      "source": [
        "# len(texts), len(labels)\n",
        "# for text, label in zip(X_train, y_train):\n",
        "# print(f\"{text} {label}\")"
      ],
      "metadata": {
        "id": "SdFKMo7UaRr5",
        "collapsed": true
      },
      "execution_count": null,
      "outputs": []
    },
    {
      "cell_type": "markdown",
      "source": [
        "# **Sentiment Analysis block**"
      ],
      "metadata": {
        "id": "aQaoug_Q1fSK"
      }
    },
    {
      "cell_type": "code",
      "source": [
        "del flan_model\n",
        "del flan_tokenizer\n",
        "\n",
        "gc.collect()\n",
        "torch.cuda.empty_cache()"
      ],
      "metadata": {
        "id": "m3DJEOGh111n"
      },
      "execution_count": null,
      "outputs": []
    },
    {
      "cell_type": "code",
      "source": [
        "X_train, X_val, y_train, y_val= train_test_split(texts, labels, test_size=0.2, stratify= labels)\n",
        "len(X_train), len(y_train), len(X_val), len(y_val)\n",
        "\n",
        "y_train= y_train.tolist()\n",
        "y_val= y_val.tolist()"
      ],
      "metadata": {
        "id": "TWqK3B3jErWL"
      },
      "execution_count": null,
      "outputs": []
    },
    {
      "cell_type": "code",
      "source": [
        "from transformers import  AutoTokenizer,AutoModelForSequenceClassification\n",
        "from torch.optim import AdamW\n",
        "\n",
        "check_point= 'cardiffnlp/twitter-roberta-base-sentiment-latest'\n",
        "\n",
        "sentiment_tokenizer = AutoTokenizer.from_pretrained(check_point)\n",
        "sentiment_model= AutoModelForSequenceClassification.from_pretrained(check_point, device_map='auto')\n",
        "optim = AdamW(sentiment_model.parameters(), lr=5e-5)"
      ],
      "metadata": {
        "collapsed": true,
        "id": "CQ38NtVjz02s",
        "outputId": "1e8bc108-8ba6-4435-d7e5-a2f3b473928e",
        "colab": {
          "base_uri": "https://localhost:8080/"
        }
      },
      "execution_count": null,
      "outputs": [
        {
          "output_type": "stream",
          "name": "stderr",
          "text": [
            "Some weights of the model checkpoint at cardiffnlp/twitter-roberta-base-sentiment-latest were not used when initializing RobertaForSequenceClassification: ['roberta.pooler.dense.bias', 'roberta.pooler.dense.weight']\n",
            "- This IS expected if you are initializing RobertaForSequenceClassification from the checkpoint of a model trained on another task or with another architecture (e.g. initializing a BertForSequenceClassification model from a BertForPreTraining model).\n",
            "- This IS NOT expected if you are initializing RobertaForSequenceClassification from the checkpoint of a model that you expect to be exactly identical (initializing a BertForSequenceClassification model from a BertForSequenceClassification model).\n"
          ]
        }
      ]
    },
    {
      "cell_type": "code",
      "source": [
        "class CreateDataset(torch.utils.data.Dataset):\n",
        "  def __init__(self, encodings, labels):\n",
        "    self.encodings= encodings\n",
        "    self.labels= labels\n",
        "\n",
        "  def __getitem__(self, idx):\n",
        "    item= {key: torch.tensor(val[idx]) for key, val in self.encodings.items()}\n",
        "    item['labels'] = torch.tensor(self.labels[idx])\n",
        "    return item\n",
        "\n",
        "  def __len__(self):\n",
        "    return len(self.labels)\n"
      ],
      "metadata": {
        "id": "Tlx85VQCsJft"
      },
      "execution_count": null,
      "outputs": []
    },
    {
      "cell_type": "code",
      "source": [
        "from torch.utils.data import DataLoader, TensorDataset\n",
        "\n",
        "def tokenize(texts):\n",
        "    if not isinstance(texts, list):\n",
        "        texts= texts.tolist()\n",
        "\n",
        "    train_encoding= sentiment_tokenizer(\n",
        "        texts,\n",
        "        padding=True,\n",
        "        max_length=256,\n",
        "        truncation= True)\n",
        "\n",
        "    return train_encoding\n",
        "\n",
        "train_encoding= tokenize(X_train)\n",
        "validation_encoding= tokenize(X_val)\n",
        "\n",
        "trainset= CreateDataset(train_encoding, y_train)\n",
        "valset= CreateDataset(validation_encoding, y_val)\n",
        "\n",
        "# Create DataLoader\n",
        "batch_size= 32\n",
        "train_loader= DataLoader(trainset, batch_size= batch_size, shuffle= True)\n",
        "val_loader= DataLoader(valset, batch_size= batch_size)"
      ],
      "metadata": {
        "id": "ppT0bf-q6qGZ"
      },
      "execution_count": null,
      "outputs": []
    },
    {
      "cell_type": "code",
      "source": [
        "import math\n",
        "\n",
        "epochs= 10\n",
        "best_loss= float('inf')\n",
        "patience = 3  # Number of epochs to wait for improvement\n",
        "epochs_without_improvement = 0\n",
        "accumulation_steps = 4  # Number of batches to accumulate gradients over\n",
        "\n",
        "for epoch in range(epochs):\n",
        "  total_loss, train_loss, val_loss = 0, 0, 0\n",
        "  total_acc, train_acc, val_acc = 0, 0 , 0\n",
        "\n",
        "  # Set model to training mode\n",
        "  sentiment_model.train()\n",
        "\n",
        "  optim.zero_grad()   # Clear gradients before starting accumulation\n",
        "  for i, batch in enumerate(train_loader):\n",
        "\n",
        "    # Using GPU\n",
        "    input_ids = batch['input_ids'].to(device)\n",
        "    attention_mask = batch['attention_mask'].to(device)\n",
        "    labels = batch['labels'].to(device)\n",
        "\n",
        "    # Forward pass\n",
        "    outputs = sentiment_model(input_ids, attention_mask=attention_mask, labels=labels)\n",
        "    y_pred = torch.argmax(outputs.logits, dim=1)\n",
        "\n",
        "    # Compute loss\n",
        "    loss = outputs[0]\n",
        "\n",
        "    # Backward pass and optimization\n",
        "    loss.backward()\n",
        "\n",
        "    # Update model parameters after `accumulation_steps` batches\n",
        "    if (i + 1) % accumulation_steps == 0:\n",
        "        optim.step()       # Update model parameters\n",
        "        optim.zero_grad()  # Clear gradients for the next accumulation cycle\n",
        "\n",
        "    # Accumulate loss and accuracy\n",
        "    train_loss += loss.item() * len(batch['input_ids'])\n",
        "    train_acc += torch.sum(y_pred == labels).item()\n",
        "\n",
        "    if (i + 1) % 10 == 0:\n",
        "      print(f' batch: [{i + 1}/{math.floor(len(trainset)/batch_size)}]')\n",
        "\n",
        "  # Average loss and accuracy for training\n",
        "  train_loss /= len(trainset)\n",
        "  train_acc /= len(trainset)\n",
        "\n",
        "\n",
        "  # Set model to evaluation mode\n",
        "  sentiment_model.eval()\n",
        "\n",
        "  with torch.no_grad():\n",
        "    for batch in val_loader:\n",
        "\n",
        "      # Using GPU\n",
        "      input_ids = batch['input_ids'].to(device)\n",
        "      attention_mask = batch['attention_mask'].to(device)\n",
        "      labels = batch['labels'].to(device)\n",
        "\n",
        "      # Forward pass\n",
        "      outputs = sentiment_model(input_ids, attention_mask=attention_mask, labels=labels)\n",
        "      y_pred= torch.argmax(outputs.logits, dim=1)\n",
        "\n",
        "      # Compuute loss\n",
        "      loss= outputs[0]\n",
        "\n",
        "      # Accumulate loss and accuracy\n",
        "      val_loss += loss.item() * len(batch['input_ids'])\n",
        "      val_acc += torch.sum(y_pred == labels).item()\n",
        "\n",
        "    # Average loss and accuracy for validation\n",
        "    val_loss /= len(valset)\n",
        "    val_acc /= len(valset)\n",
        "\n",
        "\n",
        "  # Print training and validation results\n",
        "  training_result= ','.join([\n",
        "    f'Epoch:[{epoch + 1}], '\n",
        "    f'train_Loss:{train_loss:.3f}, '\n",
        "    f'train_acc:{train_acc:.3f}, '\n",
        "    f'val_Loss:{val_loss:.3f}, '\n",
        "    f'val_acc:{val_acc:.3f} '\n",
        "  ])\n",
        "\n",
        "  print(training_result)\n",
        "\n",
        "  # Save the model if validation loss improves\n",
        "  # Early stopping: Added to prevent overfitting.\n",
        "  if val_loss < best_loss:\n",
        "      best_loss = val_loss\n",
        "      epochs_without_improvement = 0\n",
        "      print('model saved!')\n",
        "      torch.save(sentiment_model, 'imdb_model.pt')\n",
        "  else:\n",
        "      epochs_without_improvement += 1\n",
        "      if epochs_without_improvement >= patience:\n",
        "          print(\"Early stopping!\")\n",
        "          break"
      ],
      "metadata": {
        "id": "2sjUwF7BEfvH",
        "outputId": "9292f037-2fe9-434a-8b84-6d12c1cc984e",
        "colab": {
          "base_uri": "https://localhost:8080/"
        }
      },
      "execution_count": null,
      "outputs": [
        {
          "output_type": "stream",
          "name": "stdout",
          "text": [
            "tensor([0, 0, 0, 0, 0, 0, 0, 0, 0, 0, 0, 0, 0, 0, 0, 0, 0, 0, 0, 0, 0, 0, 0, 0,\n",
            "        0, 0, 0, 0, 0, 0, 0, 0], device='cuda:0')\n",
            "Epoch:[1], train_Loss:0.000, train_acc:0.000, val_Loss:nan, val_acc:0.513 \n",
            "tensor([0, 0, 0, 0, 0, 0, 0, 0, 0, 0, 0, 0, 0, 0, 0, 0, 0, 0, 0, 0, 0, 0, 0, 0,\n",
            "        0, 0, 0, 0, 0, 0, 0, 0], device='cuda:0')\n",
            "Epoch:[2], train_Loss:0.000, train_acc:0.000, val_Loss:nan, val_acc:0.513 \n",
            "tensor([0, 0, 0, 0, 0, 0, 0, 0, 0, 0, 0, 0, 0, 0, 0, 0, 0, 0, 0, 0, 0, 0, 0, 0,\n",
            "        0, 0, 0, 0, 0, 0, 0, 0], device='cuda:0')\n",
            "Epoch:[3], train_Loss:0.000, train_acc:0.000, val_Loss:nan, val_acc:0.513 \n",
            "Early stopping!\n"
          ]
        }
      ]
    },
    {
      "cell_type": "code",
      "source": [
        "# classifier= pipeline('sentiment-analysis', model='cardiffnlp/twitter-roberta-base-sentiment-latest')"
      ],
      "metadata": {
        "id": "BODQiaJuXacq"
      },
      "execution_count": null,
      "outputs": []
    },
    {
      "cell_type": "code",
      "source": [
        "# print(classifier(raw_text.text))\n",
        "# print(classifier(raw_text.revised_text))"
      ],
      "metadata": {
        "id": "_HNcd2hzXhSo"
      },
      "execution_count": null,
      "outputs": []
    },
    {
      "cell_type": "code",
      "source": [],
      "metadata": {
        "id": "LBLAsJnPAZ0M"
      },
      "execution_count": null,
      "outputs": []
    }
  ]
}